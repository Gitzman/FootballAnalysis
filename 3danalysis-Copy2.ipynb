{
 "cells": [
  {
   "cell_type": "markdown",
   "metadata": {},
   "source": [
    "# 3rd Down Analysis: Weeks {0}-{1}"
   ]
  },
  {
   "cell_type": "markdown",
   "metadata": {},
   "source": [
    "This is an automated IPython Notebook that displays 3rd Down Performance over the selected weeks built using BurntSushi's NflGame project.  You can select week numbers by tweaking the start and end values in the URL.  \n",
    "\n",
    "You can use these visualizations to get a better understanding of how each team has been performing.  You can also see the code used to build this by clicking on the visualizations or where prompted to click, so you can use this workbook as a starting place towards your future analyses. \n",
    "\n",
    "For an example of how I used this notebook to better understand the Eagles third down performance earlier in the season, [click here](/adhoc?art=EaglesO)."
   ]
  },
  {
   "cell_type": "code",
   "execution_count": 29,
   "metadata": {
    "collapsed": false
   },
   "outputs": [],
   "source": [
    "#Import necessary Python Packages. \n",
    "import requests\n",
    "import re\n",
    "from bs4 import BeautifulSoup\n",
    "import nflgame\n",
    "import pandas\n",
    "import numpy as np\n",
    "import seaborn as sns\n",
    "import matplotlib.pyplot as plt\n",
    "import matplotlib\n",
    "import random\n",
    "from matplotlib.ticker import FuncFormatter\n",
    "import matplotlib.image as mpimg\n",
    "from PIL import Image\n",
    "from pylab import *\n",
    "import urllib, cStringIO\n",
    "from matplotlib.offsetbox import TextArea, DrawingArea, OffsetImage, \\\n",
    "     AnnotationBbox\n",
    "import pickle\n",
    "\n",
    "pkl_file = open('logos.pkl', 'rb')\n",
    "logos= pickle.load(pkl_file)\n",
    "\n",
    "\n",
    "\n",
    "#This function grabs team logo\n",
    "def getTeamlogo(team, logos=logos):\n",
    "        return [k for k in logos if k.find(team.lower())!=-1][0]\n",
    "\n",
    "    #USED TO PUT LOGOS ON GRAPH\n"
   ]
  },
  {
   "cell_type": "code",
   "execution_count": 34,
   "metadata": {
    "collapsed": false
   },
   "outputs": [
    {
     "data": {
      "text/plain": [
       "'http://i.nflcdn.com/static/site/7.2/img/logos/teams-gloss-81x54/jac.png'"
      ]
     },
     "execution_count": 34,
     "metadata": {},
     "output_type": "execute_result"
    }
   ],
   "source": [
    "getTeamlogo(\"JAC\")"
   ]
  },
  {
   "cell_type": "code",
   "execution_count": 25,
   "metadata": {
    "collapsed": false
   },
   "outputs": [],
   "source": []
  },
  {
   "cell_type": "code",
   "execution_count": 26,
   "metadata": {
    "collapsed": false
   },
   "outputs": [
    {
     "data": {
      "text/plain": [
       "['http://i.nflcdn.com/static/site/7.2/img/logos/teams-gloss-81x54/bal.png',\n",
       " 'http://i.nflcdn.com/static/site/7.2/img/logos/teams-gloss-81x54/cin.png',\n",
       " 'http://i.nflcdn.com/static/site/7.2/img/logos/teams-gloss-81x54/cle.png',\n",
       " 'http://i.nflcdn.com/static/site/7.2/img/logos/teams-gloss-81x54/pit.png',\n",
       " 'http://i.nflcdn.com/static/site/7.2/img/logos/teams-gloss-81x54/hou.png',\n",
       " 'http://i.nflcdn.com/static/site/7.2/img/logos/teams-gloss-81x54/ind.png',\n",
       " 'http://i.nflcdn.com/static/site/7.2/img/logos/teams-gloss-81x54/jac.png',\n",
       " 'http://i.nflcdn.com/static/site/7.2/img/logos/teams-gloss-81x54/ten.png',\n",
       " 'http://i.nflcdn.com/static/site/7.2/img/logos/teams-gloss-81x54/buf.png',\n",
       " 'http://i.nflcdn.com/static/site/7.2/img/logos/teams-gloss-81x54/mia.png',\n",
       " 'http://i.nflcdn.com/static/site/7.2/img/logos/teams-gloss-81x54/ne.png',\n",
       " 'http://i.nflcdn.com/static/site/7.2/img/logos/teams-gloss-81x54/nyj.png',\n",
       " 'http://i.nflcdn.com/static/site/7.2/img/logos/teams-gloss-81x54/den.png',\n",
       " 'http://i.nflcdn.com/static/site/7.2/img/logos/teams-gloss-81x54/kc.png',\n",
       " 'http://i.nflcdn.com/static/site/7.2/img/logos/teams-gloss-81x54/oak.png',\n",
       " 'http://i.nflcdn.com/static/site/7.2/img/logos/teams-gloss-81x54/sd.png',\n",
       " 'http://i.nflcdn.com/static/site/7.2/img/logos/teams-gloss-81x54/chi.png',\n",
       " 'http://i.nflcdn.com/static/site/7.2/img/logos/teams-gloss-81x54/det.png',\n",
       " 'http://i.nflcdn.com/static/site/7.2/img/logos/teams-gloss-81x54/gb.png',\n",
       " 'http://i.nflcdn.com/static/site/7.2/img/logos/teams-gloss-81x54/min.png',\n",
       " 'http://i.nflcdn.com/static/site/7.2/img/logos/teams-gloss-81x54/atl.png',\n",
       " 'http://i.nflcdn.com/static/site/7.2/img/logos/teams-gloss-81x54/car.png',\n",
       " 'http://i.nflcdn.com/static/site/7.2/img/logos/teams-gloss-81x54/no.png',\n",
       " 'http://i.nflcdn.com/static/site/7.2/img/logos/teams-gloss-81x54/tb.png',\n",
       " 'http://i.nflcdn.com/static/site/7.2/img/logos/teams-gloss-81x54/dal.png',\n",
       " 'http://i.nflcdn.com/static/site/7.2/img/logos/teams-gloss-81x54/nyg.png',\n",
       " 'http://i.nflcdn.com/static/site/7.2/img/logos/teams-gloss-81x54/phi.png',\n",
       " 'http://i.nflcdn.com/static/site/7.2/img/logos/teams-gloss-81x54/was.png',\n",
       " 'http://i.nflcdn.com/static/site/7.2/img/logos/teams-gloss-81x54/ari.png',\n",
       " 'http://i.nflcdn.com/static/site/7.2/img/logos/teams-gloss-81x54/sf.png',\n",
       " 'http://i.nflcdn.com/static/site/7.2/img/logos/teams-gloss-81x54/sea.png',\n",
       " 'http://i.nflcdn.com/static/site/7.2/img/logos/teams-gloss-81x54/stl.png']"
      ]
     },
     "execution_count": 26,
     "metadata": {},
     "output_type": "execute_result"
    }
   ],
   "source": [
    "pkl_file = open('logos.pkl', 'rb')\n",
    "logos= pickle.load(pkl_file)"
   ]
  },
  {
   "cell_type": "code",
   "execution_count": 23,
   "metadata": {
    "collapsed": false
   },
   "outputs": [
    {
     "name": "stdout",
     "output_type": "stream",
     "text": [
      "Click here for initializaliton code. (Graphics and Import Statements)\n"
     ]
    }
   ],
   "source": [
    "def teamlabel():\n",
    "    file1 = cStringIO.StringIO(urllib.urlopen(getTeamlogo(label.lower())).read())\n",
    "    img = Image.open(file1)\n",
    "    imagebox = OffsetImage(img, zoom=.35, alpha=.75)\n",
    "    ab = AnnotationBbox(imagebox, xy=(x, y),pad=0)\n",
    "    plt.gca().add_artist(ab)\n",
    "    \n",
    "    \n",
    "print \"Click here for initializaliton code. (Graphics and Import Statements)\""
   ]
  },
  {
   "cell_type": "code",
   "execution_count": null,
   "metadata": {
    "collapsed": true
   },
   "outputs": [],
   "source": []
  }
 ],
 "metadata": {
  "kernelspec": {
   "display_name": "Python 2",
   "language": "python",
   "name": "python2"
  },
  "language_info": {
   "codemirror_mode": {
    "name": "ipython",
    "version": 2
   },
   "file_extension": ".py",
   "mimetype": "text/x-python",
   "name": "python",
   "nbconvert_exporter": "python",
   "pygments_lexer": "ipython2",
   "version": "2.7.10"
  }
 },
 "nbformat": 4,
 "nbformat_minor": 0
}
