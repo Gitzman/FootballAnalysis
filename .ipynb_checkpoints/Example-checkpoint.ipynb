{
 "cells": [
  {
   "cell_type": "markdown",
   "metadata": {},
   "source": [
    "# 3rd Down Analysis: Weeks {0}-{1}"
   ]
  },
  {
   "cell_type": "markdown",
   "metadata": {},
   "source": [
    "This is an automated IPython Notebook that displays 3rd Down Performance over the selected weeks built using BurntSushi's NflGame project.  You can select week numbers by tweaking the start and end values in the URL.  \n",
    "\n",
    "You can use these visualizations to get a better understanding of how each team has been performing.  You can also see the code used to build this by clicking on the visualizations or where prompted to click, so you can use this workbook as a starting place towards your future analyses. \n",
    "\n",
    "For an example of how I used this notebook to better understand the Eagles third down performance earlier in the season, [click here](/adhoc?art=EaglesO)."
   ]
  },
  {
   "cell_type": "code",
   "execution_count": 1,
   "metadata": {
    "collapsed": false
   },
   "outputs": [
    {
     "name": "stdout",
     "output_type": "stream",
     "text": [
      "Click here for initializaliton code. (Graphics and Import Statements)\n"
     ]
    }
   ],
   "source": [
    "#Import necessary Python Packages. \n",
    "import requests\n",
    "import re\n",
    "from bs4 import BeautifulSoup\n",
    "import nflgame\n",
    "import pandas\n",
    "import numpy as np\n",
    "import seaborn as sns\n",
    "import matplotlib.pyplot as plt\n",
    "import matplotlib\n",
    "import random\n",
    "from matplotlib.ticker import FuncFormatter\n",
    "import matplotlib.image as mpimg\n",
    "from PIL import Image\n",
    "from pylab import *\n",
    "import urllib, cStringIO\n",
    "from matplotlib.offsetbox import TextArea, DrawingArea, OffsetImage, \\\n",
    "     AnnotationBbox\n",
    "import pickle\n",
    "\n",
    "pkl_file = open('logos.pkl', 'rb')\n",
    "logos= pickle.load(pkl_file)\n",
    "\n",
    "#......A bunch of things to make the graphs below nice.............................\n",
    "\n",
    "#Display Graphs\n",
    "%matplotlib inline\n",
    "\n",
    "#Set canvas for Graphs\n",
    "sns.set_style(\"white\")\n",
    "sns.set_context({\"figure.figsize\": (18, 10)})\n",
    "\n",
    "\n",
    "#This is a function I use to put percentages on the y-axis of graphs below (Stackoverflow)\n",
    "def to_percent(y, position):\n",
    "    # Ignore the passed in position. This has the effect of scaling the default\n",
    "    # tick locations.\n",
    "    s = str(100 * y)\n",
    "\n",
    "    # The percent symbol needs escaping in latex\n",
    "    if matplotlib.rcParams['text.usetex'] == True:\n",
    "        return s + r'$\\%$'\n",
    "    else:\n",
    "        return s + '%'\n",
    "\n",
    "formatter = FuncFormatter(to_percent)\n",
    "\n",
    "#This function grabs team logos\n",
    "def getTeamlogo(team, logos=logos):\n",
    "        return [k for k in logos if k.find(team.lower())!=-1][0]\n",
    "\n",
    "def teamlabel():\n",
    "    file1 = cStringIO.StringIO(urllib.urlopen(getTeamlogo(label.lower())).read())\n",
    "    img = Image.open(file1)\n",
    "    imagebox = OffsetImage(img, zoom=.35, alpha=.75)\n",
    "    ab = AnnotationBbox(imagebox, xy=(x, y),pad=0)\n",
    "    plt.gca().add_artist(ab)\n",
    "    \n",
    "    \n",
    "print \"Click here for initializaliton code. (Graphics and Import Statements)\""
   ]
  },
  {
   "cell_type": "code",
   "execution_count": 2,
   "metadata": {
    "collapsed": false
   },
   "outputs": [
    {
     "ename": "TypeError",
     "evalue": "unsupported operand type(s) for /: 'set' and 'int'",
     "output_type": "error",
     "traceback": [
      "\u001b[1;31m---------------------------------------------------------------------------\u001b[0m",
      "\u001b[1;31mTypeError\u001b[0m                                 Traceback (most recent call last)",
      "\u001b[1;32m<ipython-input-2-c2fa245d1d9e>\u001b[0m in \u001b[0;36m<module>\u001b[1;34m()\u001b[0m\n\u001b[0;32m      1\u001b[0m \u001b[1;31m#Grab all plays from games in Week {0}-{1}, 2015\u001b[0m\u001b[1;33m\u001b[0m\u001b[1;33m\u001b[0m\u001b[0m\n\u001b[1;32m----> 2\u001b[1;33m \u001b[0mgames\u001b[0m \u001b[1;33m=\u001b[0m \u001b[0mnflgame\u001b[0m\u001b[1;33m.\u001b[0m\u001b[0mgames\u001b[0m\u001b[1;33m(\u001b[0m\u001b[1;36m2015\u001b[0m\u001b[1;33m,\u001b[0m \u001b[0mweek\u001b[0m\u001b[1;33m=\u001b[0m\u001b[0mlist\u001b[0m\u001b[1;33m(\u001b[0m\u001b[0marange\u001b[0m\u001b[1;33m(\u001b[0m\u001b[1;33m{\u001b[0m\u001b[1;36m0\u001b[0m\u001b[1;33m}\u001b[0m\u001b[1;33m,\u001b[0m\u001b[1;33m{\u001b[0m\u001b[1;36m2\u001b[0m\u001b[1;33m}\u001b[0m\u001b[1;33m)\u001b[0m\u001b[1;33m)\u001b[0m\u001b[1;33m)\u001b[0m\u001b[1;33m\u001b[0m\u001b[0m\n\u001b[0m\u001b[0;32m      3\u001b[0m \u001b[0mplays\u001b[0m \u001b[1;33m=\u001b[0m \u001b[0mnflgame\u001b[0m\u001b[1;33m.\u001b[0m\u001b[0mcombine_plays\u001b[0m\u001b[1;33m(\u001b[0m\u001b[0mgames\u001b[0m\u001b[1;33m)\u001b[0m\u001b[1;33m\u001b[0m\u001b[0m\n\u001b[0;32m      4\u001b[0m \u001b[1;33m\u001b[0m\u001b[0m\n\u001b[0;32m      5\u001b[0m \u001b[1;31m#Build a Dataset with all 3rd down plays out of the set of plays built above\u001b[0m\u001b[1;33m\u001b[0m\u001b[1;33m\u001b[0m\u001b[0m\n",
      "\u001b[1;31mTypeError\u001b[0m: unsupported operand type(s) for /: 'set' and 'int'"
     ]
    }
   ],
   "source": [
    "#Grab all plays from games in Week {0}-{1}, 2015\n",
    "games = nflgame.games(2015, week=list(arange({0},{2})))\n",
    "plays = nflgame.combine_plays(games)\n",
    "\n",
    "#Build a Dataset with all 3rd down plays out of the set of plays built above\n",
    "columns=[\"team\", \"ytg\", \"success\", \"rush\", \"patt\", \"playdescription\"]\n",
    "\n",
    "df = pandas.DataFrame(columns=columns)\n",
    "\n",
    "for p in plays.filter(down=3):\n",
    "    tempdf = pandas.DataFrame([[p.team, p.yards_togo, p.first_down, p.rushing_att, \n",
    "                                p.passing_att,p]],columns=columns)\n",
    "    df = df.append(tempdf, ignore_index=True)\n",
    "\n",
    "#Remove No Plays and FGs \n",
    "df=df[~df[\"playdescription\"].astype(\"str\").str.contains(\"No Play\")]\n",
    "df=df[~df[\"playdescription\"].astype(\"str\").str.contains(\"field goal\")]\n",
    "\n",
    "#Set few odd plays where success ==2 to 1, to indicate a successful 3rd down conversion.\n",
    "df.set_value(df[df['success']==2].index, 'success', 1)\n",
    "\n",
    "print \"Click Here to see the actual NFL Data Import Code.\""
   ]
  },
  {
   "cell_type": "markdown",
   "metadata": {},
   "source": [
    "The first graph shows 3rd down performance throughout the league.  This is to get a quick and easy sense of how a team is doing so far."
   ]
  },
  {
   "cell_type": "code",
   "execution_count": null,
   "metadata": {
    "collapsed": false
   },
   "outputs": [],
   "source": [
    "#Build table that shows 3rd down rate by team\n",
    "third=df.pivot_table(index='team', values='success', aggfunc=[np.sum, len,np.mean])\n",
    "third.columns=[\"Conversions\", \"Attempts\", \"Conv_Rate\"]\n",
    "third.sort(\"Conv_Rate\", ascending=False, inplace=True)\n",
    "\n",
    "\n",
    "#............Plot the third down rate by team....................\n",
    "plt.figure()\n",
    "\n",
    "g = sns.factorplot(x=third.index, y=\"Conv_Rate\", data=third, aspect=2, kind='bar',\n",
    "                  color=\"gray\")\n",
    "g.set_xticklabels(rotation=90)\n",
    "\n",
    "sns.despine(left=True)\n",
    "plt.gca().yaxis.set_major_formatter(formatter)\n",
    "plt.gca().set_ylabel(\"3rd Down Conversion %\", fontsize=12)\n",
    "plt.gca().set_xlabel(\"Team\", fontsize=12)\n",
    "\n",
    "plt.plot(np.ones(32)*df[\"success\"].mean(),lw=2, color=\"blue\",linestyle=\"--\", \n",
    "         label=\"Average Success Rate\")\n",
    "plt.title(\"3rd Down Success Rates by Team\")\n",
    "plt.legend()\n",
    "\n",
    "plt.show()"
   ]
  },
  {
   "cell_type": "markdown",
   "metadata": {},
   "source": [
    "A team's 3rd down performance can be due to facing more challenging situations, or it may be because the offense just does not do well on third down.  The graph below shows how teams are performing, compared to what we'd expect for their average 3rd down distance."
   ]
  },
  {
   "cell_type": "code",
   "execution_count": null,
   "metadata": {
    "collapsed": false
   },
   "outputs": [],
   "source": [
    "#Build a Series with avg ytg for each team\n",
    "avgdist=df.pivot_table(index='team', values='ytg', aggfunc=np.mean)\n",
    "avgdist=avgdist.sort_index()\n",
    "avgdist.name=\"avgdist\"\n",
    "\n",
    "third=third.sort_index()\n",
    "\n",
    "#Plot third down performance by team vs. logistic regression expectation\n",
    "\n",
    "plt.figure()\n",
    "\n",
    "sns.regplot(x=\"ytg\", y=\"success\",data=df,logistic=True, y_jitter=.03, truncate=True )\n",
    "plt.scatter(x=avgdist, y=third[\"Conv_Rate\"], color=\"red\")\n",
    "plt.xlim(0,15)\n",
    "plt.ylim(0,.65)\n",
    "\n",
    "sns.despine(left=True)\n",
    "\n",
    "plt.xticks(fontsize=18)\n",
    "plt.yticks(fontsize=18)\n",
    "\n",
    "plt.title(\"Probability of converting a 3rd Down, Overlaid with Team Performance\", \n",
    "          fontsize=24)\n",
    "plt.gca().yaxis.set_major_formatter(formatter)\n",
    "plt.gca().set_ylabel(\"3d Conversion %\", fontsize=24)\n",
    "plt.gca().set_xlabel(\"Yards to go\", fontsize=24)\n",
    "\n",
    "for label, x, y in zip(avgdist.index, \n",
    "                       avgdist, \n",
    "                       third[\"Conv_Rate\"]):\n",
    "    teamlabel()\n",
    "    \n",
    "    "
   ]
  },
  {
   "cell_type": "markdown",
   "metadata": {},
   "source": [
    "There are 2 reasons (besides the inheret luck involved) that a team's third down performance would deviate from the expectation when looking at their average yards to go. \n",
    "\n",
    "1.  The team is simply better (or worse) than the rest of the league at converting third downs when controlling for distance.\n",
    "\n",
    "2.  The team's average yards to go is skewed by some out of the ordinary third and longs, so their expected 3rd down conversion rate is lower than it would be if we looked more granularly at the distance they face on third downs.  \n",
    "\n",
    "For instance, a team with an average yards to of 7 yards to go could have an expected conversion rate of 38% (.38 * 3 / 3) if all of their conversions are from 7 yards out, or they could have an expected conversion rate of more than 40% if two out of of every three third downs has one yard remaining, and the third is 3rd and 20 ((.6 + .6 + .1) / 3).  \n",
    "\n",
    "Below I break down each team's third downs by distance, to better understand the types of situations teams are putting themselves into on third down:\n",
    "\n",
    "Short [0-3]\n",
    "Medium (3-6]\n",
    "Long (6-10]\n",
    "XLong (10+)"
   ]
  },
  {
   "cell_type": "code",
   "execution_count": null,
   "metadata": {
    "collapsed": false
   },
   "outputs": [],
   "source": [
    "labels=['short','mid','long','long+']\n",
    "\n",
    "#Build distance buckets for 3rd down distance\n",
    "df['ytgBuckets']=pandas.cut(df.ytg, [0,3,6,10,50], right=True, labels=labels,retbins=False,\n",
    "                            precision=3, include_lowest=False).astype(\"str\")\n",
    "\n",
    "distfreq=df.pivot_table(index='team', columns='ytgBuckets', values='success', aggfunc=len)\n",
    "distfreq=distfreq[labels]\n",
    "distfreq=distfreq.divide(distfreq.sum(axis=1), axis='rows')\n",
    "\n",
    "#Build graph to show Expect 3rd Down rankings.\n",
    "sns.set_style(\"white\")\n",
    "\n",
    "\n",
    "sns.barplot(x = distfreq.index , y = distfreq.sum(axis=1), color = \"darkred\", label=\"XLong\")\n",
    "sns.barplot(x = distfreq.index , y = distfreq[distfreq.columns[:-1]].sum(axis=1), \n",
    "            color = \"red\", label=\"Long\")\n",
    "sns.barplot(x = distfreq.index , y = distfreq[distfreq.columns[:-2]].sum(axis=1), \n",
    "            color = \"yellow\", label=\"Medium\")\n",
    "bottom_plot=sns.barplot(x = distfreq.index , y = distfreq[distfreq.columns[:-3]].sum(axis=1), \n",
    "            color = \"green\", label=\"Short\")\n",
    "sns.despine(left=True)\n",
    "plt.gca().yaxis.set_major_formatter(formatter)\n",
    "plt.title(\"Third Down Situations by Team\", fontsize=32)\n",
    "bottom_plot.set_ylabel(\"Distance %\", fontsize=28)\n",
    "bottom_plot.set_xlabel(\"Team\", fontsize=28)\n",
    "plt.xticks(fontsize=24, rotation=90)\n",
    "plt.yticks(fontsize=24)\n",
    "plt.legend(bbox_to_anchor=(1.05, 1), loc=2, prop={'size':24})\n",
    "\n",
    "#bottom_plot.set_xticklabels(rotation=90)\n"
   ]
  },
  {
   "cell_type": "markdown",
   "metadata": {},
   "source": [
    "The graph below looks at how we'd expect teams to rank in 3rd down conversion rate, if they converted at league average for each of their 3rd down situations."
   ]
  },
  {
   "cell_type": "code",
   "execution_count": null,
   "metadata": {
    "collapsed": false
   },
   "outputs": [],
   "source": [
    "#Table that shows third down attempts and rate by team and distance\n",
    "#thirdytg=df.pivot_table(index='team', columns='ytgBuckets', values='success', aggfunc=[len,  np.mean])\n",
    "\n",
    "#NFL 3rd down rates by distance\n",
    "lenmeans=df.pivot_table(columns='ytgBuckets', values='success', aggfunc=np.mean)\n",
    "e3d=distfreq.multiply(\n",
    "    lenmeans, axis=1).sum(axis=1)\n",
    "\n",
    "e3d.name=\"e3d\"\n",
    "try:\n",
    "    third=third.join(e3d)\n",
    "\n",
    "except:\n",
    "    pass\n",
    "\n",
    "third['expsuccess']=third['Attempts'] * third['e3d']\n",
    "third.sort('e3d', inplace=True, ascending=False)\n",
    "plt.plot(np.ones(32)*df[\"success\"].mean(),lw=4, color=\"blue\",linestyle=\"--\", \n",
    "         label=\"Average Success Rate\")\n",
    "plt.title(\"Expected 3rd Down Success Rates by Team\", fontsize=24)\n",
    "\n",
    "sns.despine(left=True)\n",
    "sns.barplot(x = third.index , y = third.e3d, color=\"gray\")\n",
    "plt.gca().yaxis.set_major_formatter(formatter)\n",
    "plt.gca().set_ylabel(\"Expected 3rd Down %\", fontsize=24)\n",
    "plt.gca().set_xlabel(\"Team\", fontsize=24)\n",
    "plt.xticks(fontsize=18)\n",
    "plt.yticks(fontsize=18)\n",
    "plt.show()"
   ]
  },
  {
   "cell_type": "markdown",
   "metadata": {},
   "source": [
    "The final graph compares the total # of 3rd down conversions for each team we would expect if they had performed at league average compared to how many how many they have actually converted to see which teams are most benefitting or being hurt by their third down performance."
   ]
  },
  {
   "cell_type": "code",
   "execution_count": null,
   "metadata": {
    "collapsed": false
   },
   "outputs": [],
   "source": [
    "sns.set_style(\"white\")\n",
    "\n",
    "\n",
    "g=plt.scatter(x=third.expsuccess, y=third.Conversions, s=200, c=\"red\")\n",
    "\n",
    "plt.plot(np.arange(0,70,1),lw=2, color=\"blue\",linestyle=\"--\", label=\"Average Success Rate\")\n",
    "\n",
    "plt.axis([third.expsuccess.min()/2,third.expsuccess.max()+5,\\\n",
    "          third.expsuccess.min()/2,third.expsuccess.max()+5])\n",
    "plt.title(\"Actual Third Downs vs. Expected\", fontsize=24)\n",
    "plt.xlabel(\"Expected # of Third Downs\", fontsize=24)\n",
    "plt.ylabel(\"Actual # of Third Downs\", fontsize=24)\n",
    "sns.despine(left=True)\n",
    "plt.xticks(fontsize=18)\n",
    "plt.yticks(fontsize=18)\n",
    "\n",
    "for label, x, y in zip(third.index, \n",
    "                       third[\"expsuccess\"], \n",
    "                       third[\"Conversions\"]):\n",
    "    teamlabel()\n"
   ]
  },
  {
   "cell_type": "markdown",
   "metadata": {},
   "source": [
    "Thanks for taking a look.  Feel free to borrow from the visualizations or the code for your own analyses.  I'd love to see how people are using this, so if you do use it, please send me a note on Twitter @FootballActuary.  I plan to build out more notebooks like this to highlight team performance in other facets of the game, like in the redzone and early/late in games so follow me to be notified as they come out.  Thanks!"
   ]
  }
 ],
 "metadata": {
  "kernelspec": {
   "display_name": "Python 2",
   "language": "python",
   "name": "python2"
  },
  "language_info": {
   "codemirror_mode": {
    "name": "ipython",
    "version": 2
   },
   "file_extension": ".py",
   "mimetype": "text/x-python",
   "name": "python",
   "nbconvert_exporter": "python",
   "pygments_lexer": "ipython2",
   "version": "2.7.10"
  }
 },
 "nbformat": 4,
 "nbformat_minor": 0
}
