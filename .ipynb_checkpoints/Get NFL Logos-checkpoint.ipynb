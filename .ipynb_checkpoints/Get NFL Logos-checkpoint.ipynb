{
 "cells": [
  {
   "cell_type": "code",
   "execution_count": 34,
   "metadata": {
    "collapsed": false
   },
   "outputs": [
    {
     "name": "stdout",
     "output_type": "stream",
     "text": [
      "http://i.nflcdn.com/static/site/7.2/img/logos/teams-gloss-81x54/ne.png\n"
     ]
    }
   ],
   "source": [
    "#requests handles our interaction with the websites.\n",
    "import requests\n",
    "\n",
    "import re\n",
    "#BeautifulSoup is used for parsing html. \n",
    "from bs4 import BeautifulSoup\n",
    "\n",
    "\n",
    "\n",
    "#Declare I am writing a function called getTextfromUrl that receives a url as input.\n",
    "def getTeamlogo(team):\n",
    "\n",
    "    url=\"http://www.nfl.com/teams\"\n",
    "#The program will attempt all actions indented under \"try\", and if it fails will execute the commands indented beneath except.\n",
    "    try:\n",
    "        #if http is not in the url, append that to the url\n",
    "        if 'http' not in url.lower():\n",
    "            url='http://'+ url\n",
    "\n",
    "        #Use the requests library to reach out the url and return a RESPONSE object which contains page source code, cookies, and\n",
    "        #other miscellaneous information from the page, error if the url does not respond in 5 seconds.\n",
    "        page = requests.get(url, timeout=5)\n",
    "\n",
    "        #take the source code of the url and from the page RESPONSE object (by accessing .text) and create a BeautifulSoup\n",
    "        #object to make the source code easier to manipulate.\n",
    "        soup = BeautifulSoup(page.text)\n",
    "\n",
    "        #Assign the remaining text values to a variable called text\n",
    "        allLogos= [link.get(\"src\") for link in soup.find_all(src=re.compile(\"/logos/teams\"))]\n",
    "        return [k for k in allLogos if team in k][0]\n",
    "\n",
    "    \n",
    "    #If any of the above code fails, assign an empty string \"\" to the variable called text     \n",
    "    except:\n",
    "        return None\n",
    "\n",
    "\n",
    "print getTeamlogo(\"ne\")"
   ]
  },
  {
   "cell_type": "code",
   "execution_count": 38,
   "metadata": {
    "collapsed": false
   },
   "outputs": [
    {
     "ename": "TypeError",
     "evalue": "__init__() got an unexpected keyword argument 'lineColor'",
     "output_type": "error",
     "traceback": [
      "\u001b[1;31m---------------------------------------------------------------------------\u001b[0m",
      "\u001b[1;31mTypeError\u001b[0m                                 Traceback (most recent call last)",
      "\u001b[1;32m<ipython-input-38-b68c1802928c>\u001b[0m in \u001b[0;36m<module>\u001b[1;34m()\u001b[0m\n\u001b[0;32m     17\u001b[0m     \u001b[1;31m#print img\u001b[0m\u001b[1;33m\u001b[0m\u001b[1;33m\u001b[0m\u001b[0m\n\u001b[0;32m     18\u001b[0m \u001b[1;33m\u001b[0m\u001b[0m\n\u001b[1;32m---> 19\u001b[1;33m     \u001b[0mab\u001b[0m \u001b[1;33m=\u001b[0m \u001b[0mAnnotationBbox\u001b[0m\u001b[1;33m(\u001b[0m\u001b[0mimagebox\u001b[0m\u001b[1;33m,\u001b[0m \u001b[0mxy\u001b[0m\u001b[1;33m=\u001b[0m\u001b[1;33m(\u001b[0m\u001b[0mcounter\u001b[0m\u001b[1;33m,\u001b[0m \u001b[0mcounter\u001b[0m\u001b[1;33m)\u001b[0m\u001b[1;33m,\u001b[0m\u001b[0mpad\u001b[0m\u001b[1;33m=\u001b[0m\u001b[1;36m0\u001b[0m\u001b[1;33m,\u001b[0m \u001b[0mlineColor\u001b[0m\u001b[1;33m=\u001b[0m\u001b[1;34m'g'\u001b[0m\u001b[1;33m)\u001b[0m\u001b[1;33m\u001b[0m\u001b[0m\n\u001b[0m\u001b[0;32m     20\u001b[0m     \u001b[0mcounter\u001b[0m\u001b[1;33m=\u001b[0m\u001b[0mcounter\u001b[0m\u001b[1;33m+\u001b[0m\u001b[1;36m.03\u001b[0m\u001b[1;33m\u001b[0m\u001b[0m\n\u001b[0;32m     21\u001b[0m     \u001b[0max\u001b[0m\u001b[1;33m.\u001b[0m\u001b[0madd_artist\u001b[0m\u001b[1;33m(\u001b[0m\u001b[0mab\u001b[0m\u001b[1;33m)\u001b[0m\u001b[1;33m\u001b[0m\u001b[0m\n",
      "\u001b[1;32m/home/agitzes/anaconda/envs/FootballAnalysis/lib/python2.7/site-packages/matplotlib/offsetbox.pyc\u001b[0m in \u001b[0;36m__init__\u001b[1;34m(self, offsetbox, xy, xybox, xycoords, boxcoords, frameon, pad, annotation_clip, box_alignment, bboxprops, arrowprops, fontsize, **kwargs)\u001b[0m\n\u001b[0;32m   1360\u001b[0m                                  annotation_clip=annotation_clip)\n\u001b[0;32m   1361\u001b[0m \u001b[1;33m\u001b[0m\u001b[0m\n\u001b[1;32m-> 1362\u001b[1;33m         \u001b[0mmartist\u001b[0m\u001b[1;33m.\u001b[0m\u001b[0mArtist\u001b[0m\u001b[1;33m.\u001b[0m\u001b[0m__init__\u001b[0m\u001b[1;33m(\u001b[0m\u001b[0mself\u001b[0m\u001b[1;33m,\u001b[0m \u001b[1;33m**\u001b[0m\u001b[0mkwargs\u001b[0m\u001b[1;33m)\u001b[0m\u001b[1;33m\u001b[0m\u001b[0m\n\u001b[0m\u001b[0;32m   1363\u001b[0m \u001b[1;33m\u001b[0m\u001b[0m\n\u001b[0;32m   1364\u001b[0m         \u001b[1;31m#self._fw, self._fh = 0., 0. # for alignment\u001b[0m\u001b[1;33m\u001b[0m\u001b[1;33m\u001b[0m\u001b[0m\n",
      "\u001b[1;31mTypeError\u001b[0m: __init__() got an unexpected keyword argument 'lineColor'"
     ]
    },
    {
     "data": {
      "image/png": "[encoded data removed]",
      "text/plain": [
       "<matplotlib.figure.Figure at 0x7ff3efe3a250>"
      ]
     },
     "metadata": {},
     "output_type": "display_data"
    }
   ],
   "source": [
    "import matplotlib.pyplot as plt\n",
    "import numpy as np\n",
    "\n",
    "%matplotlib inline\n",
    "\n",
    "fig, ax = plt.subplots()\n",
    "counter=0\n",
    "\n",
    "for i in getTextfromUrl(url):\n",
    "\n",
    "    \n",
    "    \n",
    "    file1 = cStringIO.StringIO(urllib.urlopen(i).read())\n",
    "    img = Image.open(file1)\n",
    "    imagebox = OffsetImage(img, zoom=.35, alpha=.5)\n",
    "    #plt.annotate(imagebox, xy=(counter, counter) )\n",
    "    #print img\n",
    "    \n",
    "    ab = AnnotationBbox(imagebox, xy=(counter, counter),pad=0, boxstyle)\n",
    "    counter=counter+.03\n",
    "    ax.add_artist(ab)"
   ]
  },
  {
   "cell_type": "code",
   "execution_count": 36,
   "metadata": {
    "collapsed": false
   },
   "outputs": [
    {
     "data": {
      "text/plain": [
       "<matplotlib.offsetbox.AnnotationBbox at 0x7ff3efc87610>"
      ]
     },
     "execution_count": 36,
     "metadata": {},
     "output_type": "execute_result"
    },
    {
     "data": {
      "image/png": "[encoded data removed]",
      "text/plain": [
       "<matplotlib.figure.Figure at 0x7ff40431c3d0>"
      ]
     },
     "metadata": {},
     "output_type": "display_data"
    }
   ],
   "source": [
    "fig, ax = plt.subplots()\n",
    "\n",
    "label=\"ne\"\n",
    "file1 = cStringIO.StringIO(urllib.urlopen(getTeamlogo(label)).read())\n",
    "img = Image.open(file1)\n",
    "imagebox = OffsetImage(img, zoom=.25)\n",
    "ab = AnnotationBbox(imagebox, xy=(.5, .5),pad=0)\n",
    "ax.add_artist(ab)"
   ]
  },
  {
   "cell_type": "code",
   "execution_count": null,
   "metadata": {
    "collapsed": true
   },
   "outputs": [],
   "source": []
  }
 ],
 "metadata": {
  "kernelspec": {
   "display_name": "Python 2",
   "language": "python",
   "name": "python2"
  },
  "language_info": {
   "codemirror_mode": {
    "name": "ipython",
    "version": 2
   },
   "file_extension": ".py",
   "mimetype": "text/x-python",
   "name": "python",
   "nbconvert_exporter": "python",
   "pygments_lexer": "ipython2",
   "version": "2.7.10"
  }
 },
 "nbformat": 4,
 "nbformat_minor": 0
}
