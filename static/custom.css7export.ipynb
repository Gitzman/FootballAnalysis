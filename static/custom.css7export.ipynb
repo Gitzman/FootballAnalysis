{
 "cells": [
  {
   "cell_type": "markdown",
   "metadata": {},
   "source": [
    "# Eagles Third Down Woes, Situation or Incompetence?"
   ]
  },
  {
   "cell_type": "markdown",
   "metadata": {},
   "source": [
    "After the Eagles dropped their latest game to the Washington Redskins, Chip Kelly attributed part of the lack of offensive success to poor performance on third down, saying, \n",
    "    \n",
    "\"you got to stay on the field on third down. So if third down gets you a first down, now we can run the football. We're not converting third downs and that's the biggest problem with us offensively right now. We need to play more on offense. That's the bottom-line. We're getting off the field on third down and most of the time when we're off the field on third down, it's our fault. We're not getting stopped. We're doing it to ourselves.\"\n",
    "    \n",
    "Football analyst Warren Sharp, of whom I am fan, wrote an excellent counterpoint to the comments, in this article http://www.foxsports.com/college-football/outkick-the-coverage/chip-kelly-is-wrong-about-the-eagles-problems-100715.  His main argument was that the Eagles are so poor on third down because they have a very high yards per 3rd down attempt, which limits their ability to convert.\n",
    "\n",
    "Using BurntSushi's NFLGame Package, I dive into the data to show that both perspectives are correct (unfortunately for Eagles fans).  The Eagles are putting themselves into really poor situations, and they are also one of the worst teams in the league converting on third down given their situation."
   ]
  },
  {
   "cell_type": "code",
   "execution_count": 1,
   "metadata": {
    "collapsed": false
   },
   "outputs": [],
   "source": [
    "#requests handles our interaction with the websites.\n",
    "import requests\n",
    "import re\n",
    "from bs4 import BeautifulSoup\n",
    "\n",
    "#Declare I am writing a function called getTextfromUrl that receives a url as input.\n",
    "def getTeamlogo(team):\n",
    "\n",
    "    url=\"http://www.nfl.com/teams\"\n",
    "#The program will attempt all actions indented under \"try\", and if it fails will execute the commands indented beneath except.\n",
    "    try:\n",
    "        #if http is not in the url, append that to the url\n",
    "        if 'http' not in url.lower():\n",
    "            url='http://'+ url\n",
    "\n",
    "        #Use the requests library to reach out the url and return a RESPONSE object which contains page source code, cookies, and\n",
    "        #other miscellaneous information from the page, error if the url does not respond in 5 seconds.\n",
    "        page = requests.get(url, timeout=5)\n",
    "\n",
    "        #take the source code of the url and from the page RESPONSE object (by accessing .text) and create a BeautifulSoup\n",
    "        #object to make the source code easier to manipulate.\n",
    "        soup = BeautifulSoup(page.text)\n",
    "\n",
    "        #Assign the remaining text values to a variable called text\n",
    "        allLogos= [link.get(\"src\") for link in soup.find_all(src=re.compile(\"/logos/teams\"))]\n",
    "        return [k for k in allLogos if team in k][0]\n",
    "\n",
    "    \n",
    "    #If any of the above code fails, assign an empty string \"\" to the variable called text     \n",
    "    except:\n",
    "        return None\n",
    "    \n",
    "def teamlabel():\n",
    "    file1 = cStringIO.StringIO(urllib.urlopen(getTeamlogo(label.lower())).read())\n",
    "    img = Image.open(file1)\n",
    "    imagebox = OffsetImage(img, zoom=.35)\n",
    "    ab = AnnotationBbox(imagebox, xy=(x, y),pad=0)\n",
    "    plt.gca().add_artist(ab)\n",
    "    \n",
    "def eaglabel():\n",
    "    file1 = cStringIO.StringIO(urllib.urlopen(getTeamlogo(label.lower())).read())\n",
    "    img = Image.open(file1)\n",
    "    imagebox = OffsetImage(img, zoom=.35)\n",
    "    ab = AnnotationBbox(imagebox, xy=(x, y), bboxprops = dict(fc = 'green'))\n",
    "    plt.gca().add_artist(ab)"
   ]
  },
  {
   "cell_type": "code",
   "execution_count": 2,
   "metadata": {
    "collapsed": false
   },
   "outputs": [],
   "source": [
    "#Import necessary Python Packages\n",
    "import nflgame\n",
    "import pandas\n",
    "import numpy as np\n",
    "import seaborn as sns\n",
    "import matplotlib.pyplot as plt\n",
    "import matplotlib\n",
    "import random\n",
    "from matplotlib.ticker import FuncFormatter\n",
    "import matplotlib.image as mpimg\n",
    "from PIL import Image\n",
    "from pylab import *\n",
    "import urllib, cStringIO\n",
    "from matplotlib.offsetbox import TextArea, DrawingArea, OffsetImage, \\\n",
    "     AnnotationBbox\n",
    "\n",
    "#......A bunch of things to make the graphs below nice.............................\n",
    "\n",
    "#Display Graphs\n",
    "%matplotlib inline\n",
    "\n",
    "#Set canvas for Graphs\n",
    "sns.set_style(\"white\")\n",
    "sns.set_context({\"figure.figsize\": (24, 10)})\n",
    "\n",
    "\n",
    "#This is a function I use to put percentages on the y-axis of graphs below (Stackoverflow)\n",
    "def to_percent(y, position):\n",
    "    # Ignore the passed in position. This has the effect of scaling the default\n",
    "    # tick locations.\n",
    "    s = str(100 * y)\n",
    "\n",
    "    # The percent symbol needs escaping in latex\n",
    "    if matplotlib.rcParams['text.usetex'] == True:\n",
    "        return s + r'$\\%$'\n",
    "    else:\n",
    "        return s + '%'\n",
    "\n",
    "formatter = FuncFormatter(to_percent)\n"
   ]
  },
  {
   "cell_type": "code",
   "execution_count": 3,
   "metadata": {
    "collapsed": false
   },
   "outputs": [
    {
     "ename": "IndentationError",
     "evalue": "unexpected indent (<ipython-input-3-5a994fb878de>, line 3)",
     "output_type": "error",
     "traceback": [
      "\u001b[1;36m  File \u001b[1;32m\"<ipython-input-3-5a994fb878de>\"\u001b[1;36m, line \u001b[1;32m3\u001b[0m\n\u001b[1;33m    games = nflgame.games(2015, week=list(arange(custom.css,8)))\u001b[0m\n\u001b[1;37m    ^\u001b[0m\n\u001b[1;31mIndentationError\u001b[0m\u001b[1;31m:\u001b[0m unexpected indent\n"
     ]
    }
   ],
   "source": [
    "\n",
    "    #Grab all plays from games in Week 1-4, 2015\n",
    "    games = nflgame.games(2015, week=list(arange(custom.css,8)))\n",
    "    plays = nflgame.combine_plays(games)\n",
    "\n",
    "    #Build a Dataset with all 3rd down plays out of the set of plays built abovsd\n",
    "    columns=[\"team\", \"ytg\", \"success\", \"rush\", \"patt\", \"playdescription\"]\n",
    "\n",
    "    df = pandas.DataFrame(columns=columns)\n",
    "\n",
    "    for p in plays.filter(down=3):\n",
    "        tempdf = pandas.DataFrame([[p.team, p.yards_togo, p.first_down, p.rushing_att,\n",
    "                                    p.passing_att,p]],columns=columns)\n",
    "        df = df.append(tempdf, ignore_index=True)"
   ]
  },
  {
   "cell_type": "markdown",
   "metadata": {},
   "source": [
    "Comparing my dataset with ProFootballReference's wonderful Game Play Finder tool, you'll see that our data conflicts with PFR.  We have 1,852 3rd down plays compared 1,671 here (http://bit.ly/1M2EuFH). "
   ]
  },
  {
   "cell_type": "code",
   "execution_count": 4,
   "metadata": {
    "collapsed": false
   },
   "outputs": [
    {
     "ename": "NameError",
     "evalue": "name 'df' is not defined",
     "output_type": "error",
     "traceback": [
      "\u001b[1;31m---------------------------------------------------------------------------\u001b[0m",
      "\u001b[1;31mNameError\u001b[0m                                 Traceback (most recent call last)",
      "\u001b[1;32m<ipython-input-4-85191f40ffdb>\u001b[0m in \u001b[0;36m<module>\u001b[1;34m()\u001b[0m\n\u001b[0;32m      1\u001b[0m \u001b[1;31m#Display the dataset\u001b[0m\u001b[1;33m\u001b[0m\u001b[1;33m\u001b[0m\u001b[0m\n\u001b[1;32m----> 2\u001b[1;33m \u001b[0mdf\u001b[0m\u001b[1;33m.\u001b[0m\u001b[0mdescribe\u001b[0m\u001b[1;33m(\u001b[0m\u001b[1;33m)\u001b[0m\u001b[1;33m\u001b[0m\u001b[0m\n\u001b[0m",
      "\u001b[1;31mNameError\u001b[0m: name 'df' is not defined"
     ]
    }
   ],
   "source": [
    "#Display the dataset\n",
    "df.describe()"
   ]
  },
  {
   "cell_type": "markdown",
   "metadata": {},
   "source": [
    "After some digging, it looks like there are a number of plays recorded that did not result in a play.  There are also a few field goals.  We'll remove those from our dataset."
   ]
  },
  {
   "cell_type": "code",
   "execution_count": 5,
   "metadata": {
    "collapsed": false
   },
   "outputs": [
    {
     "ename": "NameError",
     "evalue": "name 'df' is not defined",
     "output_type": "error",
     "traceback": [
      "\u001b[1;31m---------------------------------------------------------------------------\u001b[0m",
      "\u001b[1;31mNameError\u001b[0m                                 Traceback (most recent call last)",
      "\u001b[1;32m<ipython-input-5-3669a4a56867>\u001b[0m in \u001b[0;36m<module>\u001b[1;34m()\u001b[0m\n\u001b[0;32m      1\u001b[0m \u001b[1;31m#Remove No Plays and FGs\u001b[0m\u001b[1;33m\u001b[0m\u001b[1;33m\u001b[0m\u001b[0m\n\u001b[1;32m----> 2\u001b[1;33m \u001b[0mdf\u001b[0m\u001b[1;33m=\u001b[0m\u001b[0mdf\u001b[0m\u001b[1;33m[\u001b[0m\u001b[1;33m~\u001b[0m\u001b[0mdf\u001b[0m\u001b[1;33m[\u001b[0m\u001b[1;34m\"playdescription\"\u001b[0m\u001b[1;33m]\u001b[0m\u001b[1;33m.\u001b[0m\u001b[0mastype\u001b[0m\u001b[1;33m(\u001b[0m\u001b[1;34m\"str\"\u001b[0m\u001b[1;33m)\u001b[0m\u001b[1;33m.\u001b[0m\u001b[0mstr\u001b[0m\u001b[1;33m.\u001b[0m\u001b[0mcontains\u001b[0m\u001b[1;33m(\u001b[0m\u001b[1;34m\"No Play\"\u001b[0m\u001b[1;33m)\u001b[0m\u001b[1;33m]\u001b[0m\u001b[1;33m\u001b[0m\u001b[0m\n\u001b[0m\u001b[0;32m      3\u001b[0m \u001b[0mdf\u001b[0m\u001b[1;33m=\u001b[0m\u001b[0mdf\u001b[0m\u001b[1;33m[\u001b[0m\u001b[1;33m~\u001b[0m\u001b[0mdf\u001b[0m\u001b[1;33m[\u001b[0m\u001b[1;34m\"playdescription\"\u001b[0m\u001b[1;33m]\u001b[0m\u001b[1;33m.\u001b[0m\u001b[0mastype\u001b[0m\u001b[1;33m(\u001b[0m\u001b[1;34m\"str\"\u001b[0m\u001b[1;33m)\u001b[0m\u001b[1;33m.\u001b[0m\u001b[0mstr\u001b[0m\u001b[1;33m.\u001b[0m\u001b[0mcontains\u001b[0m\u001b[1;33m(\u001b[0m\u001b[1;34m\"field goal\"\u001b[0m\u001b[1;33m)\u001b[0m\u001b[1;33m]\u001b[0m\u001b[1;33m\u001b[0m\u001b[0m\n\u001b[0;32m      4\u001b[0m \u001b[1;33m\u001b[0m\u001b[0m\n\u001b[0;32m      5\u001b[0m \u001b[1;31m#Set few odd plays where success ==2 to 1, to indicate a successful 3rd down conversion.\u001b[0m\u001b[1;33m\u001b[0m\u001b[1;33m\u001b[0m\u001b[0m\n",
      "\u001b[1;31mNameError\u001b[0m: name 'df' is not defined"
     ]
    }
   ],
   "source": [
    "#Remove No Plays and FGs \n",
    "df=df[~df[\"playdescription\"].astype(\"str\").str.contains(\"No Play\")]\n",
    "df=df[~df[\"playdescription\"].astype(\"str\").str.contains(\"field goal\")]\n",
    "\n",
    "#Set few odd plays where success ==2 to 1, to indicate a successful 3rd down conversion.\n",
    "df.set_value(df[df['success']==2].index, 'success', 1)\n",
    "df.describe()"
   ]
  },
  {
   "cell_type": "markdown",
   "metadata": {},
   "source": [
    "A one play difference from PFR is great.  Now that the data is ready, let's dig into it. The graphic below confirms that the Eagles have performed quite poor on third down.  Their performance ranks 30th in the league, and they are converting at a far below average rate."
   ]
  },
  {
   "cell_type": "code",
   "execution_count": 6,
   "metadata": {
    "collapsed": false
   },
   "outputs": [
    {
     "ename": "NameError",
     "evalue": "name 'df' is not defined",
     "output_type": "error",
     "traceback": [
      "\u001b[1;31m---------------------------------------------------------------------------\u001b[0m",
      "\u001b[1;31mNameError\u001b[0m                                 Traceback (most recent call last)",
      "\u001b[1;32m<ipython-input-6-5084ee84639d>\u001b[0m in \u001b[0;36m<module>\u001b[1;34m()\u001b[0m\n\u001b[0;32m      1\u001b[0m \u001b[1;31m#Build table that shows 3rd down rate by team\u001b[0m\u001b[1;33m\u001b[0m\u001b[1;33m\u001b[0m\u001b[0m\n\u001b[1;32m----> 2\u001b[1;33m \u001b[0mthird\u001b[0m\u001b[1;33m=\u001b[0m\u001b[0mdf\u001b[0m\u001b[1;33m.\u001b[0m\u001b[0mpivot_table\u001b[0m\u001b[1;33m(\u001b[0m\u001b[0mindex\u001b[0m\u001b[1;33m=\u001b[0m\u001b[1;34m'team'\u001b[0m\u001b[1;33m,\u001b[0m \u001b[0mvalues\u001b[0m\u001b[1;33m=\u001b[0m\u001b[1;34m'success'\u001b[0m\u001b[1;33m,\u001b[0m \u001b[0maggfunc\u001b[0m\u001b[1;33m=\u001b[0m\u001b[1;33m[\u001b[0m\u001b[0mnp\u001b[0m\u001b[1;33m.\u001b[0m\u001b[0msum\u001b[0m\u001b[1;33m,\u001b[0m \u001b[0mlen\u001b[0m\u001b[1;33m,\u001b[0m\u001b[0mnp\u001b[0m\u001b[1;33m.\u001b[0m\u001b[0mmean\u001b[0m\u001b[1;33m]\u001b[0m\u001b[1;33m)\u001b[0m\u001b[1;33m\u001b[0m\u001b[0m\n\u001b[0m\u001b[0;32m      3\u001b[0m \u001b[0mthird\u001b[0m\u001b[1;33m.\u001b[0m\u001b[0mcolumns\u001b[0m\u001b[1;33m=\u001b[0m\u001b[1;33m[\u001b[0m\u001b[1;34m\"Conversions\"\u001b[0m\u001b[1;33m,\u001b[0m \u001b[1;34m\"Attempts\"\u001b[0m\u001b[1;33m,\u001b[0m \u001b[1;34m\"Conv_Rate\"\u001b[0m\u001b[1;33m]\u001b[0m\u001b[1;33m\u001b[0m\u001b[0m\n\u001b[0;32m      4\u001b[0m \u001b[0mthird\u001b[0m\u001b[1;33m.\u001b[0m\u001b[0msort\u001b[0m\u001b[1;33m(\u001b[0m\u001b[1;34m\"Conv_Rate\"\u001b[0m\u001b[1;33m,\u001b[0m \u001b[0mascending\u001b[0m\u001b[1;33m=\u001b[0m\u001b[0mFalse\u001b[0m\u001b[1;33m,\u001b[0m \u001b[0minplace\u001b[0m\u001b[1;33m=\u001b[0m\u001b[0mTrue\u001b[0m\u001b[1;33m)\u001b[0m\u001b[1;33m\u001b[0m\u001b[0m\n\u001b[0;32m      5\u001b[0m \u001b[1;33m\u001b[0m\u001b[0m\n",
      "\u001b[1;31mNameError\u001b[0m: name 'df' is not defined"
     ]
    }
   ],
   "source": [
    "#Build table that shows 3rd down rate by team\n",
    "third=df.pivot_table(index='team', values='success', aggfunc=[np.sum, len,np.mean])\n",
    "third.columns=[\"Conversions\", \"Attempts\", \"Conv_Rate\"]\n",
    "third.sort(\"Conv_Rate\", ascending=False, inplace=True)\n",
    "\n",
    "\n",
    "#............Plot the third down rate by team....................\n",
    "plt.figure()\n",
    "\n",
    "g = sns.factorplot(x=third.index, y=\"Conv_Rate\", data=third, aspect=2, kind='bar',\n",
    "                  color=\"gray\")\n",
    "g.set_xticklabels(rotation=90)\n",
    "\n",
    "sns.despine(left=True)\n",
    "plt.gca().yaxis.set_major_formatter(formatter)\n",
    "plt.gca().set_ylabel(\"3rd Down Conversion %\", fontsize=12)\n",
    "plt.gca().set_xlabel(\"Team\", fontsize=12)\n",
    "\n",
    "plt.plot(np.ones(32)*df[\"success\"].mean(),lw=2, color=\"blue\",linestyle=\"--\", \n",
    "         label=\"Average Success Rate\")\n",
    "plt.title(\"3rd Down Success Rates by Team\")\n",
    "plt.annotate(\"The Eagles are Much\\n Below Average\", \n",
    "             xy=(29,third[third.index==\"PHI\"][\"Conv_Rate\"]), \n",
    "             xytext=(29,third[\"Conv_Rate\"].mean()+.02),\n",
    "             arrowprops=dict(facecolor='black', shrink=0.05))\n",
    "plt.legend()\n",
    "\n",
    "plt.show()"
   ]
  },
  {
   "cell_type": "markdown",
   "metadata": {},
   "source": [
    "The poor performance is certainly related to yards to go on third downs, as Warren Sharp did point out that the Eagles also have the 3rd highest yards to go average in the league, but it does not look like that tells the whole story.  \n",
    "\n",
    "The graph below shows the league wide 3rd down conversion rate by yards to go, and then I overlaid team performance to show how teams are performing compared to how you'd expect based on average yards to go.  I've highlighted the Eagles with a Green label, and you can see that the the Eagles are performing below where they'd expect with their ~8 average yards to go.  "
   ]
  },
  {
   "cell_type": "code",
   "execution_count": 7,
   "metadata": {
    "collapsed": false
   },
   "outputs": [
    {
     "ename": "NameError",
     "evalue": "name 'df' is not defined",
     "output_type": "error",
     "traceback": [
      "\u001b[1;31m---------------------------------------------------------------------------\u001b[0m",
      "\u001b[1;31mNameError\u001b[0m                                 Traceback (most recent call last)",
      "\u001b[1;32m<ipython-input-7-ca5ebd75b4a7>\u001b[0m in \u001b[0;36m<module>\u001b[1;34m()\u001b[0m\n\u001b[0;32m      1\u001b[0m \u001b[1;31m#Build a Series with avg ytg for each team\u001b[0m\u001b[1;33m\u001b[0m\u001b[1;33m\u001b[0m\u001b[0m\n\u001b[1;32m----> 2\u001b[1;33m \u001b[0mavgdist\u001b[0m\u001b[1;33m=\u001b[0m\u001b[0mdf\u001b[0m\u001b[1;33m.\u001b[0m\u001b[0mpivot_table\u001b[0m\u001b[1;33m(\u001b[0m\u001b[0mindex\u001b[0m\u001b[1;33m=\u001b[0m\u001b[1;34m'team'\u001b[0m\u001b[1;33m,\u001b[0m \u001b[0mvalues\u001b[0m\u001b[1;33m=\u001b[0m\u001b[1;34m'ytg'\u001b[0m\u001b[1;33m,\u001b[0m \u001b[0maggfunc\u001b[0m\u001b[1;33m=\u001b[0m\u001b[0mnp\u001b[0m\u001b[1;33m.\u001b[0m\u001b[0mmean\u001b[0m\u001b[1;33m)\u001b[0m\u001b[1;33m\u001b[0m\u001b[0m\n\u001b[0m\u001b[0;32m      3\u001b[0m \u001b[0mavgdist\u001b[0m\u001b[1;33m=\u001b[0m\u001b[0mavgdist\u001b[0m\u001b[1;33m.\u001b[0m\u001b[0msort_index\u001b[0m\u001b[1;33m(\u001b[0m\u001b[1;33m)\u001b[0m\u001b[1;33m\u001b[0m\u001b[0m\n\u001b[0;32m      4\u001b[0m \u001b[0mavgdist\u001b[0m\u001b[1;33m.\u001b[0m\u001b[0mname\u001b[0m\u001b[1;33m=\u001b[0m\u001b[1;34m\"avgdist\"\u001b[0m\u001b[1;33m\u001b[0m\u001b[0m\n\u001b[0;32m      5\u001b[0m \u001b[1;33m\u001b[0m\u001b[0m\n",
      "\u001b[1;31mNameError\u001b[0m: name 'df' is not defined"
     ]
    }
   ],
   "source": [
    "#Build a Series with avg ytg for each team\n",
    "avgdist=df.pivot_table(index='team', values='ytg', aggfunc=np.mean)\n",
    "avgdist=avgdist.sort_index()\n",
    "avgdist.name=\"avgdist\"\n",
    "\n",
    "third=third.sort_index()\n",
    "\n",
    "\n",
    "sns.set_context({\"figure.figsize\": (18, 10)})\n",
    "plt.figure()\n",
    "\n",
    "sns.regplot(x=\"ytg\", y=\"success\",data=df,logistic=True, y_jitter=.03, truncate=True )\n",
    "plt.scatter(x=avgdist, y=third[\"Conv_Rate\"], color=\"red\")\n",
    "plt.xlim(0,15)\n",
    "plt.ylim(0,.65)\n",
    "\n",
    "sns.despine(left=True)\n",
    "\n",
    "plt.xticks(fontsize=18)\n",
    "plt.yticks(fontsize=18)\n",
    "\n",
    "plt.title(\"Probability of converting a 3rd Down, Overlaid with Team Performance\", \n",
    "          fontsize=24)\n",
    "plt.gca().yaxis.set_major_formatter(formatter)\n",
    "plt.gca().set_ylabel(\"3d Conversion %\", fontsize=24)\n",
    "plt.gca().set_xlabel(\"Yards to go\", fontsize=24)\n",
    "\n",
    "for label, x, y in zip(avgdist.index, \n",
    "                       avgdist, \n",
    "                       third[\"Conv_Rate\"]):\n",
    "    if label==\"PHI\":\n",
    "        eaglabel()\n",
    "    \n",
    "    else:\n",
    "        teamlabel()\n",
    "    \n",
    "    "
   ]
  },
  {
   "cell_type": "markdown",
   "metadata": {},
   "source": [
    "There are 2 reasons (besides the inheret luck involved) that a team's third down performance would deviate from the expectation when looking at their average yards to go. \n",
    "\n",
    "1.  The team is simply better (or worse) than the rest of the league at converting third downs when controlling for distance.\n",
    "\n",
    "2.  The team's average yards to go is skewed by some out of the ordinary third and longs, so their expected 3rd down conversion rate is lower than it would be if we looked more granularly at the distance they face on third downs.  \n",
    "\n",
    "For instance, a team with an average yards to of 7 yards to go could have an expected conversion rate of 38% (.38 * 3 / 3) if all of their conversions are from 7 yards out, or they could have an expected conversion rate of more than 40% if two out of of every three third downs has one yard remaining, and the third is 3rd and 20 ((.6 + .6 + .1) / 3).  \n",
    "\n",
    "Since the Eagles are outside of the light blue band, their poor performance has to do with additional factors besides luck.\n",
    "\n",
    "Below I break down each team's third downs by distance, and see if the Eagle's below expected performance has to do with the breakdown of distances they've had to go, or if they are actually performing worse on third down than we would expect. "
   ]
  },
  {
   "cell_type": "code",
   "execution_count": 8,
   "metadata": {
    "collapsed": false
   },
   "outputs": [
    {
     "ename": "NameError",
     "evalue": "name 'df' is not defined",
     "output_type": "error",
     "traceback": [
      "\u001b[1;31m---------------------------------------------------------------------------\u001b[0m",
      "\u001b[1;31mNameError\u001b[0m                                 Traceback (most recent call last)",
      "\u001b[1;32m<ipython-input-8-a60fd72602bb>\u001b[0m in \u001b[0;36m<module>\u001b[1;34m()\u001b[0m\n\u001b[0;32m      2\u001b[0m \u001b[1;33m\u001b[0m\u001b[0m\n\u001b[0;32m      3\u001b[0m \u001b[1;31m#Build distance buckets for 3rd down distance\u001b[0m\u001b[1;33m\u001b[0m\u001b[1;33m\u001b[0m\u001b[0m\n\u001b[1;32m----> 4\u001b[1;33m df['ytgBuckets']=pandas.cut(df.ytg, [0,3,6,10,50], right=True, labels=labels,retbins=False,\n\u001b[0m\u001b[0;32m      5\u001b[0m                             precision=3, include_lowest=False).astype(\"str\")\n\u001b[0;32m      6\u001b[0m \u001b[1;33m\u001b[0m\u001b[0m\n",
      "\u001b[1;31mNameError\u001b[0m: name 'df' is not defined"
     ]
    }
   ],
   "source": [
    "labels=['short','mid','long','long+']\n",
    "\n",
    "#Build distance buckets for 3rd down distance\n",
    "df['ytgBuckets']=pandas.cut(df.ytg, [0,3,6,10,50], right=True, labels=labels,retbins=False,\n",
    "                            precision=3, include_lowest=False).astype(\"str\")\n",
    "\n",
    "distfreq=df.pivot_table(index='team', columns='ytgBuckets', values='success', aggfunc=len)\n",
    "distfreq=distfreq[labels]\n",
    "distfreq=distfreq.divide(distfreq.sum(axis=1), axis='rows')\n",
    "\n",
    "sns.set_style(\"white\")\n",
    "sns.set_context({\"figure.figsize\": (24, 10)})\n",
    "\n",
    "sns.barplot(x = distfreq.index , y = distfreq.sum(axis=1), color = \"darkred\", label=\"XLong\")\n",
    "sns.barplot(x = distfreq.index , y = distfreq[distfreq.columns[:-1]].sum(axis=1), \n",
    "            color = \"red\", label=\"Long\")\n",
    "sns.barplot(x = distfreq.index , y = distfreq[distfreq.columns[:-2]].sum(axis=1), \n",
    "            color = \"yellow\", label=\"Medium\")\n",
    "bottom_plot=sns.barplot(x = distfreq.index , y = distfreq[distfreq.columns[:-3]].sum(axis=1), \n",
    "            color = \"green\", label=\"Short\")\n",
    "sns.despine(left=True)\n",
    "plt.gca().yaxis.set_major_formatter(formatter)\n",
    "plt.title(\"Third Down Situations by Team\", fontsize=32)\n",
    "bottom_plot.set_ylabel(\"Distance %\", fontsize=28)\n",
    "bottom_plot.set_xlabel(\"Team\", fontsize=28)\n",
    "plt.xticks(fontsize=24, rotation=90)\n",
    "plt.yticks(fontsize=24)\n",
    "plt.legend(bbox_to_anchor=(1.05, 1), loc=2, prop={'size':24})\n",
    "\n",
    "#bottom_plot.set_xticklabels(rotation=90)\n"
   ]
  },
  {
   "cell_type": "markdown",
   "metadata": {},
   "source": [
    "Looking at the data graphically, there does not appear to be anything skewed about the Eagles 3rd down situations (where we'd see more short and extra long attempts). Let's calculate a new expected third down percentage for each team given the breakdown of their opportunities and see how each team fares through this lens."
   ]
  },
  {
   "cell_type": "code",
   "execution_count": 9,
   "metadata": {
    "collapsed": false
   },
   "outputs": [
    {
     "ename": "NameError",
     "evalue": "name 'df' is not defined",
     "output_type": "error",
     "traceback": [
      "\u001b[1;31m---------------------------------------------------------------------------\u001b[0m",
      "\u001b[1;31mNameError\u001b[0m                                 Traceback (most recent call last)",
      "\u001b[1;32m<ipython-input-9-303677577d63>\u001b[0m in \u001b[0;36m<module>\u001b[1;34m()\u001b[0m\n\u001b[0;32m      3\u001b[0m \u001b[1;33m\u001b[0m\u001b[0m\n\u001b[0;32m      4\u001b[0m \u001b[1;31m#NFL 3rd down rates by distance\u001b[0m\u001b[1;33m\u001b[0m\u001b[1;33m\u001b[0m\u001b[0m\n\u001b[1;32m----> 5\u001b[1;33m \u001b[0mlenmeans\u001b[0m\u001b[1;33m=\u001b[0m\u001b[0mdf\u001b[0m\u001b[1;33m.\u001b[0m\u001b[0mpivot_table\u001b[0m\u001b[1;33m(\u001b[0m\u001b[0mcolumns\u001b[0m\u001b[1;33m=\u001b[0m\u001b[1;34m'ytgBuckets'\u001b[0m\u001b[1;33m,\u001b[0m \u001b[0mvalues\u001b[0m\u001b[1;33m=\u001b[0m\u001b[1;34m'success'\u001b[0m\u001b[1;33m,\u001b[0m \u001b[0maggfunc\u001b[0m\u001b[1;33m=\u001b[0m\u001b[0mnp\u001b[0m\u001b[1;33m.\u001b[0m\u001b[0mmean\u001b[0m\u001b[1;33m)\u001b[0m\u001b[1;33m\u001b[0m\u001b[0m\n\u001b[0m\u001b[0;32m      6\u001b[0m e3d=distfreq.multiply(\n\u001b[0;32m      7\u001b[0m     lenmeans, axis=1).sum(axis=1)\n",
      "\u001b[1;31mNameError\u001b[0m: name 'df' is not defined"
     ]
    }
   ],
   "source": [
    "#Table that shows third down attempts and rate by team and distance\n",
    "#thirdytg=df.pivot_table(index='team', columns='ytgBuckets', values='success', aggfunc=[len,  np.mean])\n",
    "\n",
    "#NFL 3rd down rates by distance\n",
    "lenmeans=df.pivot_table(columns='ytgBuckets', values='success', aggfunc=np.mean)\n",
    "e3d=distfreq.multiply(\n",
    "    lenmeans, axis=1).sum(axis=1)\n",
    "\n",
    "e3d.name=\"e3d\"\n",
    "try:\n",
    "    third=third.join(e3d)\n",
    "\n",
    "except:\n",
    "    pass\n",
    "\n",
    "third['expsuccess']=third['Attempts'] * third['e3d']\n",
    "third.sort('e3d', inplace=True, ascending=False)\n",
    "plt.plot(np.ones(32)*df[\"success\"].mean(),lw=4, color=\"blue\",linestyle=\"--\", \n",
    "         label=\"Average Success Rate\")\n",
    "plt.title(\"Expected 3rd Down Success Rates by Team\", fontsize=24)\n",
    "plt.annotate(\"The Eagles are expected\\n to be slightly\\n Below Average\", \n",
    "             xy=(29,third[third.index==\"PHI\"][\"e3d\"]), \n",
    "             xytext=(29,third[\"Conv_Rate\"].mean()+.01),\n",
    "             arrowprops=dict(facecolor='black', shrink=0.05),\n",
    "            fontsize=18)\n",
    "\n",
    "sns.despine(left=True)\n",
    "sns.barplot(x = third.index , y = third.e3d, color=\"gray\")\n",
    "plt.gca().yaxis.set_major_formatter(formatter)\n",
    "plt.gca().set_ylabel(\"Expected 3rd Down %\", fontsize=24)\n",
    "plt.gca().set_xlabel(\"Team\", fontsize=24)\n",
    "plt.xticks(fontsize=18)\n",
    "plt.yticks(fontsize=18)\n",
    "plt.show()"
   ]
  },
  {
   "cell_type": "markdown",
   "metadata": {},
   "source": [
    "It's pretty clear that the Eagles are indeed putting themselves in a poor position, as their expected 3rd down rate still ranks in the bottom 4 in the league.  However, there is a large discrepancy between their expected 3rd down rate and their actual.  The graph below looks at each team's expected # of 3rd downs, when controlled for situation, versus their actual number of third downs. "
   ]
  },
  {
   "cell_type": "code",
   "execution_count": 10,
   "metadata": {
    "collapsed": false
   },
   "outputs": [
    {
     "ename": "NameError",
     "evalue": "name 'third' is not defined",
     "output_type": "error",
     "traceback": [
      "\u001b[1;31m---------------------------------------------------------------------------\u001b[0m",
      "\u001b[1;31mNameError\u001b[0m                                 Traceback (most recent call last)",
      "\u001b[1;32m<ipython-input-10-04c27f5fb20b>\u001b[0m in \u001b[0;36m<module>\u001b[1;34m()\u001b[0m\n\u001b[0;32m      2\u001b[0m \u001b[0msns\u001b[0m\u001b[1;33m.\u001b[0m\u001b[0mset_context\u001b[0m\u001b[1;33m(\u001b[0m\u001b[1;33m{\u001b[0m\u001b[1;34m\"figure.figsize\"\u001b[0m\u001b[1;33m:\u001b[0m \u001b[1;33m(\u001b[0m\u001b[1;36m24\u001b[0m\u001b[1;33m,\u001b[0m \u001b[1;36m10\u001b[0m\u001b[1;33m)\u001b[0m\u001b[1;33m}\u001b[0m\u001b[1;33m)\u001b[0m\u001b[1;33m\u001b[0m\u001b[0m\n\u001b[0;32m      3\u001b[0m \u001b[1;33m\u001b[0m\u001b[0m\n\u001b[1;32m----> 4\u001b[1;33m \u001b[0mg\u001b[0m\u001b[1;33m=\u001b[0m\u001b[0mplt\u001b[0m\u001b[1;33m.\u001b[0m\u001b[0mscatter\u001b[0m\u001b[1;33m(\u001b[0m\u001b[0mx\u001b[0m\u001b[1;33m=\u001b[0m\u001b[0mthird\u001b[0m\u001b[1;33m.\u001b[0m\u001b[0mexpsuccess\u001b[0m\u001b[1;33m,\u001b[0m \u001b[0my\u001b[0m\u001b[1;33m=\u001b[0m\u001b[0mthird\u001b[0m\u001b[1;33m.\u001b[0m\u001b[0mConversions\u001b[0m\u001b[1;33m,\u001b[0m \u001b[0ms\u001b[0m\u001b[1;33m=\u001b[0m\u001b[1;36m200\u001b[0m\u001b[1;33m,\u001b[0m \u001b[0mc\u001b[0m\u001b[1;33m=\u001b[0m\u001b[1;34m\"red\"\u001b[0m\u001b[1;33m)\u001b[0m\u001b[1;33m\u001b[0m\u001b[0m\n\u001b[0m\u001b[0;32m      5\u001b[0m \u001b[1;33m\u001b[0m\u001b[0m\n\u001b[0;32m      6\u001b[0m \u001b[0mplt\u001b[0m\u001b[1;33m.\u001b[0m\u001b[0mplot\u001b[0m\u001b[1;33m(\u001b[0m\u001b[0mnp\u001b[0m\u001b[1;33m.\u001b[0m\u001b[0marange\u001b[0m\u001b[1;33m(\u001b[0m\u001b[1;36m0\u001b[0m\u001b[1;33m,\u001b[0m\u001b[1;36m70\u001b[0m\u001b[1;33m,\u001b[0m\u001b[1;36m1\u001b[0m\u001b[1;33m)\u001b[0m\u001b[1;33m,\u001b[0m\u001b[0mlw\u001b[0m\u001b[1;33m=\u001b[0m\u001b[1;36m2\u001b[0m\u001b[1;33m,\u001b[0m \u001b[0mcolor\u001b[0m\u001b[1;33m=\u001b[0m\u001b[1;34m\"blue\"\u001b[0m\u001b[1;33m,\u001b[0m\u001b[0mlinestyle\u001b[0m\u001b[1;33m=\u001b[0m\u001b[1;34m\"--\"\u001b[0m\u001b[1;33m,\u001b[0m \u001b[0mlabel\u001b[0m\u001b[1;33m=\u001b[0m\u001b[1;34m\"Average Success Rate\"\u001b[0m\u001b[1;33m)\u001b[0m\u001b[1;33m\u001b[0m\u001b[0m\n",
      "\u001b[1;31mNameError\u001b[0m: name 'third' is not defined"
     ]
    }
   ],
   "source": [
    "sns.set_style(\"white\")\n",
    "sns.set_context({\"figure.figsize\": (24, 10)})\n",
    "\n",
    "g=plt.scatter(x=third.expsuccess, y=third.Conversions, s=200, c=\"red\")\n",
    "\n",
    "plt.plot(np.arange(0,70,1),lw=2, color=\"blue\",linestyle=\"--\", label=\"Average Success Rate\")\n",
    "\n",
    "plt.axis([third.expsuccess.min()/2,third.expsuccess.max()+5,\\\n",
    "          third.expsuccess.min()/2,third.expsuccess.max()+5])\n",
    "plt.title(\"Actual Third Downs vs. Expected\", fontsize=24)\n",
    "plt.xlabel(\"Expected # of Third Downs\", fontsize=24)\n",
    "plt.ylabel(\"Actual # of Third Downs\", fontsize=24)\n",
    "sns.despine(left=True)\n",
    "plt.xticks(fontsize=18)\n",
    "plt.yticks(fontsize=18)\n",
    "\n",
    "for label, x, y in zip(third.index, \n",
    "                       third[\"expsuccess\"], \n",
    "                       third[\"Conversions\"]):\n",
    "    if label==\"PHI\":\n",
    "        eaglabel()\n",
    "    \n",
    "    else:\n",
    "        teamlabel()\n"
   ]
  },
  {
   "cell_type": "markdown",
   "metadata": {
    "collapsed": true
   },
   "source": [
    "You can see that the Eagles are one of the teams most below their expectation.  This means that not only are the Eagles putting themselves in poor positions, they are also not doing well for the positions they're in.  In fact, the Eagles are third in the league in missed third downs.  It looks like Chip Kelly, Sam Bradford and the rest of the Eagles have a lot of work ahead of them to succeed.  Let's dive a little deeper into the Eagles performance and see where they have the biggest opportunity for improvement."
   ]
  },
  {
   "cell_type": "code",
   "execution_count": 11,
   "metadata": {
    "collapsed": false
   },
   "outputs": [
    {
     "ename": "NameError",
     "evalue": "name 'df' is not defined",
     "output_type": "error",
     "traceback": [
      "\u001b[1;31m---------------------------------------------------------------------------\u001b[0m",
      "\u001b[1;31mNameError\u001b[0m                                 Traceback (most recent call last)",
      "\u001b[1;32m<ipython-input-11-cd416cb1f870>\u001b[0m in \u001b[0;36m<module>\u001b[1;34m()\u001b[0m\n\u001b[1;32m----> 1\u001b[1;33m \u001b[0mlenmeans\u001b[0m\u001b[1;33m=\u001b[0m\u001b[0mdf\u001b[0m\u001b[1;33m.\u001b[0m\u001b[0mpivot_table\u001b[0m\u001b[1;33m(\u001b[0m\u001b[0mcolumns\u001b[0m\u001b[1;33m=\u001b[0m\u001b[1;34m'ytgBuckets'\u001b[0m\u001b[1;33m,\u001b[0m \u001b[0mvalues\u001b[0m\u001b[1;33m=\u001b[0m\u001b[1;34m'success'\u001b[0m\u001b[1;33m,\u001b[0m \u001b[0maggfunc\u001b[0m\u001b[1;33m=\u001b[0m\u001b[0mnp\u001b[0m\u001b[1;33m.\u001b[0m\u001b[0mmean\u001b[0m\u001b[1;33m)\u001b[0m\u001b[1;33m[\u001b[0m\u001b[0mlabels\u001b[0m\u001b[1;33m]\u001b[0m\u001b[1;33m\u001b[0m\u001b[0m\n\u001b[0m\u001b[0;32m      2\u001b[0m eagmeans=df[df[\"team\"]==\"PHI\"].pivot_table(columns='ytgBuckets', \n\u001b[0;32m      3\u001b[0m                                            values='success', aggfunc=np.mean)[labels]\n\u001b[0;32m      4\u001b[0m \u001b[1;33m\u001b[0m\u001b[0m\n\u001b[0;32m      5\u001b[0m \u001b[0mbar_width\u001b[0m \u001b[1;33m=\u001b[0m \u001b[1;36m0.35\u001b[0m\u001b[1;33m\u001b[0m\u001b[0m\n",
      "\u001b[1;31mNameError\u001b[0m: name 'df' is not defined"
     ]
    }
   ],
   "source": [
    "lenmeans=df.pivot_table(columns='ytgBuckets', values='success', aggfunc=np.mean)[labels]\n",
    "eagmeans=df[df[\"team\"]==\"PHI\"].pivot_table(columns='ytgBuckets', \n",
    "                                           values='success', aggfunc=np.mean)[labels]\n",
    "\n",
    "bar_width = 0.35\n",
    "\n",
    "opacity = 0.4\n",
    "index = np.arange(4)\n",
    "\n",
    "\n",
    "rects1 = plt.bar(index, eagmeans, bar_width,\n",
    "                 color='darkgreen',\n",
    "                 label='Eagles')\n",
    "\n",
    "rects2 = plt.bar(index + bar_width, lenmeans, bar_width,\n",
    "                 color='gray',\n",
    "                 alpha=opacity,\n",
    "                 label='League Average')\n",
    "\n",
    "plt.gca().yaxis.set_major_formatter(formatter)\n",
    "plt.gca().set_ylabel(\"Expected 3rd Down %\", fontsize=24)\n",
    "plt.gca().set_title(\"Eagles 3rd Down Performance vs. League Average by Distance\", \n",
    "                    fontsize=28)\n",
    "\n",
    "sns.despine(left=True)\n",
    "plt.legend(fontsize=24)\n",
    "plt.xticks(index, labels, fontsize=24, horizontalalignment=\"left\")\n",
    "plt.yticks(fontsize=18)\n",
    "plt.show()"
   ]
  },
  {
   "cell_type": "markdown",
   "metadata": {},
   "source": [
    "While league average performance by distance follows an expected relationship where longer opportunities succeed less frequently, the Eagles performance is clearly erratic.  They are performing at below league average levels for every type of third down except for long+, and are a very poor 10% conversion rate on 3rd and mediums.  \n",
    "\n",
    "It looks like the key to the Eagles turnaround will be these 3rd and medium situations.  We'll monitor their performance in these situations moving forward."
   ]
  },
  {
   "cell_type": "markdown",
   "metadata": {},
   "source": [
    "Over the next couple of articles I will look at how opposing defenses look through this same lens.  I will also look at historical data to judge the predictive performance of e3d on the rest of the season's performance.\n",
    "\n",
    "Thanks for reading. "
   ]
  }
 ],
 "metadata": {
  "kernelspec": {
   "display_name": "Python 2",
   "language": "python",
   "name": "python2"
  },
  "language_info": {
   "codemirror_mode": {
    "name": "ipython",
    "version": 2
   },
   "file_extension": ".py",
   "mimetype": "text/x-python",
   "name": "python",
   "nbconvert_exporter": "python",
   "pygments_lexer": "ipython2",
   "version": "2.7.10"
  }
 },
 "nbformat": 4,
 "nbformat_minor": 0
}