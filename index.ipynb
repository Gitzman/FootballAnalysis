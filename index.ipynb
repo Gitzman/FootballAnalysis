{
 "cells": [
  {
   "cell_type": "code",
   "execution_count": 3,
   "metadata": {
    "collapsed": false
   },
   "outputs": [
    {
     "data": {
      "application/javascript": [
       "IPython.OutputArea.auto_scroll_threshold = 9999;"
      ],
      "text/plain": [
       "<IPython.core.display.Javascript object>"
      ]
     },
     "metadata": {},
     "output_type": "display_data"
    }
   ],
   "source": [
    "%%javascript\n",
    "IPython.OutputArea.auto_scroll_threshold = 9999;"
   ]
  },
  {
   "cell_type": "code",
   "execution_count": 8,
   "metadata": {
    "collapsed": false
   },
   "outputs": [
    {
     "data": {
      "text/html": [
       "<!DOCTYPE html>\n",
       "<html lang=\"en\">\n",
       "  <head>\n",
       "    <meta charset=\"utf-8\">\n",
       "    <meta http-equiv=\"X-UA-Compatible\" content=\"IE=edge\">\n",
       "    <meta name=\"viewport\" content=\"width=device-width, initial-scale=1\">\n",
       "    <!-- The above 3 meta tags *must* come first in the head; any other head content must come *after* these tags -->\n",
       "    <meta name=\"description\" content=\"\">\n",
       "    <meta name=\"author\" content=\"\">\n",
       "    <link rel=\"icon\" href=\"../../favicon.ico\">\n",
       "\n",
       "    <title>Jumbotron Template for Bootstrap</title>\n",
       "\n",
       "    <!-- Bootstrap core CSS -->\n",
       "    <link href=\"../../dist/css/bootstrap.min.css\" rel=\"stylesheet\">\n",
       "\n",
       "    <!-- Custom styles for this template -->\n",
       "    <link href=\"jumbotron.css\" rel=\"stylesheet\">\n",
       "\n",
       "    <!-- Just for debugging purposes. Don't actually copy these 2 lines! -->\n",
       "    <!--[if lt IE 9]><script src=\"../../assets/js/ie8-responsive-file-warning.js\"></script><![endif]-->\n",
       "    <script src=\"../../assets/js/ie-emulation-modes-warning.js\"></script>\n",
       "\n",
       "    <!-- HTML5 shim and Respond.js for IE8 support of HTML5 elements and media queries -->\n",
       "    <!--[if lt IE 9]>\n",
       "      <script src=\"https://oss.maxcdn.com/html5shiv/3.7.2/html5shiv.min.js\"></script>\n",
       "      <script src=\"https://oss.maxcdn.com/respond/1.4.2/respond.min.js\"></script>\n",
       "    <![endif]-->\n",
       "  </head>\n",
       "\n",
       "  <body>\n",
       "\n",
       "    <!-- Main jumbotron for a primary marketing message or call to action -->\n",
       "    <div class=\"jumbotron\">\n",
       "      <div class=\"container\">\n",
       "        <h1>Hello, world!</h1>\n",
       "        <p>This is a template for a simple marketing or informational website. It includes a large callout called a jumbotron and three supporting pieces of content. Use it as a starting point to create something more unique.</p>\n",
       "        <p><a class=\"btn btn-primary btn-lg\" href=\"#\" role=\"button\">Learn more &raquo;</a></p>\n",
       "      </div>\n",
       "    </div>\n",
       "\n",
       "    <div class=\"container\">\n",
       "      <!-- Example row of columns -->\n",
       "      <div class=\"row\">\n",
       "        <div class=\"col-md-3\">\n",
       "          <h2>Heading</h2>\n",
       "          <p>Donec id elit non mi porta gravida at eget metus. Fusce dapibus, tellus ac cursus commodo, tortor mauris condimentum nibh, ut fermentum massa justo sit amet risus. Etiam porta sem malesuada magna mollis euismod. Donec sed odio dui. </p>\n",
       "          <p><a class=\"btn btn-default\" href=\"#\" role=\"button\">View details &raquo;</a></p>\n",
       "        </div>\n",
       "        <div class=\"col-md-3\">\n",
       "          <h2>Heading</h2>\n",
       "          <p>Donec id elit non mi porta gravida at eget metus. Fusce dapibus, tellus ac cursus commodo, tortor mauris condimentum nibh, ut fermentum massa justo sit amet risus. Etiam porta sem malesuada magna mollis euismod. Donec sed odio dui. </p>\n",
       "          <p><a class=\"btn btn-default\" href=\"#\" role=\"button\">View details &raquo;</a></p>\n",
       "       </div>\n",
       "        <div class=\"col-md-3\">\n",
       "          <h2>Heading</h2>\n",
       "          <p>Donec sed odio dui. Cras justo odio, dapibus ac facilisis in, egestas eget quam. Vestibulum id ligula porta felis euismod semper. Fusce dapibus, tellus ac cursus commodo, tortor mauris condimentum nibh, ut fermentum massa justo sit amet risus.</p>\n",
       "          <p><a class=\"btn btn-default\" href=\"#\" role=\"button\">View details &raquo;</a></p>\n",
       "        </div>\n",
       "      </div>\n",
       "\n",
       "      <hr>\n",
       "\n",
       "      <footer>\n",
       "        <p>&copy; Company 2014</p>\n",
       "      </footer>\n",
       "    </div> <!-- /container -->\n",
       "\n",
       "\n",
       "    <!-- Bootstrap core JavaScript\n",
       "    ================================================== -->\n",
       "    <!-- Placed at the end of the document so the pages load faster -->\n",
       "    <script src=\"https://ajax.googleapis.com/ajax/libs/jquery/1.11.3/jquery.min.js\"></script>\n",
       "    <script src=\"../../dist/js/bootstrap.min.js\"></script>\n",
       "    <!-- IE10 viewport hack for Surface/desktop Windows 8 bug -->\n",
       "    <script src=\"../../assets/js/ie10-viewport-bug-workaround.js\"></script>\n",
       "  </body>\n",
       "</html>"
      ],
      "text/plain": [
       "<IPython.core.display.HTML object>"
      ]
     },
     "metadata": {},
     "output_type": "display_data"
    }
   ],
   "source": [
    "%%html\n",
    "<!DOCTYPE html>\n",
    "<html lang=\"en\">\n",
    "  <head>\n",
    "    <meta charset=\"utf-8\">\n",
    "    <meta http-equiv=\"X-UA-Compatible\" content=\"IE=edge\">\n",
    "    <meta name=\"viewport\" content=\"width=device-width, initial-scale=1\">\n",
    "    <!-- The above 3 meta tags *must* come first in the head; any other head content must come *after* these tags -->\n",
    "    <meta name=\"description\" content=\"\">\n",
    "    <meta name=\"author\" content=\"\">\n",
    "    <link rel=\"icon\" href=\"../../favicon.ico\">\n",
    "\n",
    "    <title>Jumbotron Template for Bootstrap</title>\n",
    "\n",
    "    <!-- Bootstrap core CSS -->\n",
    "    <link href=\"../../dist/css/bootstrap.min.css\" rel=\"stylesheet\">\n",
    "\n",
    "    <!-- Custom styles for this template -->\n",
    "    <link href=\"jumbotron.css\" rel=\"stylesheet\">\n",
    "\n",
    "    <!-- Just for debugging purposes. Don't actually copy these 2 lines! -->\n",
    "    <!--[if lt IE 9]><script src=\"../../assets/js/ie8-responsive-file-warning.js\"></script><![endif]-->\n",
    "    <script src=\"../../assets/js/ie-emulation-modes-warning.js\"></script>\n",
    "\n",
    "    <!-- HTML5 shim and Respond.js for IE8 support of HTML5 elements and media queries -->\n",
    "    <!--[if lt IE 9]>\n",
    "      <script src=\"https://oss.maxcdn.com/html5shiv/3.7.2/html5shiv.min.js\"></script>\n",
    "      <script src=\"https://oss.maxcdn.com/respond/1.4.2/respond.min.js\"></script>\n",
    "    <![endif]-->\n",
    "  </head>\n",
    "\n",
    "  <body>\n",
    "\n",
    "    <!-- Main jumbotron for a primary marketing message or call to action -->\n",
    "    <div class=\"jumbotron\">\n",
    "      <div class=\"container\">\n",
    "        <h1>Hello, world!</h1>\n",
    "        <p>This is a template for a simple marketing or informational website. It includes a large callout called a jumbotron and three supporting pieces of content. Use it as a starting point to create something more unique.</p>\n",
    "        <p><a class=\"btn btn-primary btn-lg\" href=\"#\" role=\"button\">Learn more &raquo;</a></p>\n",
    "      </div>\n",
    "    </div>\n",
    "\n",
    "    <div class=\"container\">\n",
    "      <!-- Example row of columns -->\n",
    "      <div class=\"row\">\n",
    "        <div class=\"col-md-3\">\n",
    "          <h2>Heading</h2>\n",
    "          <p>Donec id elit non mi porta gravida at eget metus. Fusce dapibus, tellus ac cursus commodo, tortor mauris condimentum nibh, ut fermentum massa justo sit amet risus. Etiam porta sem malesuada magna mollis euismod. Donec sed odio dui. </p>\n",
    "          <p><a class=\"btn btn-default\" href=\"#\" role=\"button\">View details &raquo;</a></p>\n",
    "        </div>\n",
    "        <div class=\"col-md-3\">\n",
    "          <h2>Heading</h2>\n",
    "          <p>Donec id elit non mi porta gravida at eget metus. Fusce dapibus, tellus ac cursus commodo, tortor mauris condimentum nibh, ut fermentum massa justo sit amet risus. Etiam porta sem malesuada magna mollis euismod. Donec sed odio dui. </p>\n",
    "          <p><a class=\"btn btn-default\" href=\"#\" role=\"button\">View details &raquo;</a></p>\n",
    "       </div>\n",
    "        <div class=\"col-md-3\">\n",
    "          <h2>Heading</h2>\n",
    "          <p>Donec sed odio dui. Cras justo odio, dapibus ac facilisis in, egestas eget quam. Vestibulum id ligula porta felis euismod semper. Fusce dapibus, tellus ac cursus commodo, tortor mauris condimentum nibh, ut fermentum massa justo sit amet risus.</p>\n",
    "          <p><a class=\"btn btn-default\" href=\"#\" role=\"button\">View details &raquo;</a></p>\n",
    "        </div>\n",
    "      </div>\n",
    "\n",
    "      <hr>\n",
    "\n",
    "      <footer>\n",
    "        <p>&copy; Company 2014</p>\n",
    "      </footer>\n",
    "    </div> <!-- /container -->\n",
    "\n",
    "\n",
    "    <!-- Bootstrap core JavaScript\n",
    "    ================================================== -->\n",
    "    <!-- Placed at the end of the document so the pages load faster -->\n",
    "    <script src=\"https://ajax.googleapis.com/ajax/libs/jquery/1.11.3/jquery.min.js\"></script>\n",
    "    <script src=\"../../dist/js/bootstrap.min.js\"></script>\n",
    "    <!-- IE10 viewport hack for Surface/desktop Windows 8 bug -->\n",
    "    <script src=\"../../assets/js/ie10-viewport-bug-workaround.js\"></script>\n",
    "  </body>\n",
    "</html>\n"
   ]
  },
  {
   "cell_type": "code",
   "execution_count": null,
   "metadata": {
    "collapsed": true
   },
   "outputs": [],
   "source": []
  }
 ],
 "metadata": {
  "kernelspec": {
   "display_name": "Python 2",
   "language": "python",
   "name": "python2"
  },
  "language_info": {
   "codemirror_mode": {
    "name": "ipython",
    "version": 2
   },
   "file_extension": ".py",
   "mimetype": "text/x-python",
   "name": "python",
   "nbconvert_exporter": "python",
   "pygments_lexer": "ipython2",
   "version": "2.7.10"
  }
 },
 "nbformat": 4,
 "nbformat_minor": 0
}
